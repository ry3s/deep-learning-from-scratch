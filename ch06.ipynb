{
 "cells": [
  {
   "cell_type": "code",
   "execution_count": 1,
   "metadata": {},
   "outputs": [
    {
     "data": {
      "application/javascript": "\n            setTimeout(function() {\n                var nbb_cell_id = 1;\n                var nbb_unformatted_code = \"%load_ext nb_black\\nimport numpy as np \\nimport matplotlib.pyplot as plt\\nimport pickle\";\n                var nbb_formatted_code = \"%load_ext nb_black\\nimport numpy as np\\nimport matplotlib.pyplot as plt\\nimport pickle\";\n                var nbb_cells = Jupyter.notebook.get_cells();\n                for (var i = 0; i < nbb_cells.length; ++i) {\n                    if (nbb_cells[i].input_prompt_number == nbb_cell_id) {\n                        if (nbb_cells[i].get_text() == nbb_unformatted_code) {\n                             nbb_cells[i].set_text(nbb_formatted_code);\n                        }\n                        break;\n                    }\n                }\n            }, 500);\n            ",
      "text/plain": [
       "<IPython.core.display.Javascript object>"
      ]
     },
     "metadata": {},
     "output_type": "display_data"
    }
   ],
   "source": [
    "%load_ext nb_black\n",
    "import numpy as np \n",
    "import matplotlib.pyplot as plt\n",
    "import pickle"
   ]
  },
  {
   "cell_type": "code",
   "execution_count": 2,
   "metadata": {},
   "outputs": [
    {
     "data": {
      "application/javascript": "\n            setTimeout(function() {\n                var nbb_cell_id = 2;\n                var nbb_unformatted_code = \"class Momentum:\\n    def __init__(self, lr=0.01, momentum=0.9):\\n        self.lr = lr \\n        self.momentum = momentum\\n        self.v = None \\n    \\n    def update(self, params, grads):\\n        if self.v is None:\\n            self.v = {}\\n            for key, val in params.items():\\n                self.v[key] = np.zeros_like(val)\\n        \\n        for key in params.keys():\\n            self.v[key] = self.momentum * self.v[key] - self.lr * grads[key]\\n            params[key] += self.v[key]\";\n                var nbb_formatted_code = \"class Momentum:\\n    def __init__(self, lr=0.01, momentum=0.9):\\n        self.lr = lr\\n        self.momentum = momentum\\n        self.v = None\\n\\n    def update(self, params, grads):\\n        if self.v is None:\\n            self.v = {}\\n            for key, val in params.items():\\n                self.v[key] = np.zeros_like(val)\\n\\n        for key in params.keys():\\n            self.v[key] = self.momentum * self.v[key] - self.lr * grads[key]\\n            params[key] += self.v[key]\";\n                var nbb_cells = Jupyter.notebook.get_cells();\n                for (var i = 0; i < nbb_cells.length; ++i) {\n                    if (nbb_cells[i].input_prompt_number == nbb_cell_id) {\n                        if (nbb_cells[i].get_text() == nbb_unformatted_code) {\n                             nbb_cells[i].set_text(nbb_formatted_code);\n                        }\n                        break;\n                    }\n                }\n            }, 500);\n            ",
      "text/plain": [
       "<IPython.core.display.Javascript object>"
      ]
     },
     "metadata": {},
     "output_type": "display_data"
    }
   ],
   "source": [
    "class Momentum:\n",
    "    def __init__(self, lr=0.01, momentum=0.9):\n",
    "        self.lr = lr \n",
    "        self.momentum = momentum\n",
    "        self.v = None \n",
    "    \n",
    "    def update(self, params, grads):\n",
    "        if self.v is None:\n",
    "            self.v = {}\n",
    "            for key, val in params.items():\n",
    "                self.v[key] = np.zeros_like(val)\n",
    "        \n",
    "        for key in params.keys():\n",
    "            self.v[key] = self.momentum * self.v[key] - self.lr * grads[key]\n",
    "            params[key] += self.v[key]"
   ]
  },
  {
   "cell_type": "code",
   "execution_count": 3,
   "metadata": {},
   "outputs": [
    {
     "data": {
      "application/javascript": "\n            setTimeout(function() {\n                var nbb_cell_id = 3;\n                var nbb_unformatted_code = \"class AdaGrad:\\n    def __init__(self, lr=0.01):\\n        self.lr = lr \\n        self.h = None \\n\\n    def update(self, params, grads):\\n        if self.h is None:\\n            self.h = {}\\n            for key, val in params.items():\\n                self.h[key] = np.zeros_like(val)\\n\\n        for key in params.keys():\\n            self.h[key] += grads[key] * grads[key]\\n            params[key] -= self.lr * grads[key] / (np.sqrt(self.h[key] + 1e-7))\";\n                var nbb_formatted_code = \"class AdaGrad:\\n    def __init__(self, lr=0.01):\\n        self.lr = lr\\n        self.h = None\\n\\n    def update(self, params, grads):\\n        if self.h is None:\\n            self.h = {}\\n            for key, val in params.items():\\n                self.h[key] = np.zeros_like(val)\\n\\n        for key in params.keys():\\n            self.h[key] += grads[key] * grads[key]\\n            params[key] -= self.lr * grads[key] / (np.sqrt(self.h[key] + 1e-7))\";\n                var nbb_cells = Jupyter.notebook.get_cells();\n                for (var i = 0; i < nbb_cells.length; ++i) {\n                    if (nbb_cells[i].input_prompt_number == nbb_cell_id) {\n                        if (nbb_cells[i].get_text() == nbb_unformatted_code) {\n                             nbb_cells[i].set_text(nbb_formatted_code);\n                        }\n                        break;\n                    }\n                }\n            }, 500);\n            ",
      "text/plain": [
       "<IPython.core.display.Javascript object>"
      ]
     },
     "metadata": {},
     "output_type": "display_data"
    }
   ],
   "source": [
    "class AdaGrad:\n",
    "    def __init__(self, lr=0.01):\n",
    "        self.lr = lr \n",
    "        self.h = None \n",
    "\n",
    "    def update(self, params, grads):\n",
    "        if self.h is None:\n",
    "            self.h = {}\n",
    "            for key, val in params.items():\n",
    "                self.h[key] = np.zeros_like(val)\n",
    "\n",
    "        for key in params.keys():\n",
    "            self.h[key] += grads[key] * grads[key]\n",
    "            params[key] -= self.lr * grads[key] / (np.sqrt(self.h[key] + 1e-7))"
   ]
  },
  {
   "cell_type": "code",
   "execution_count": null,
   "metadata": {},
   "outputs": [],
   "source": []
  }
 ],
 "metadata": {
  "interpreter": {
   "hash": "e05b10c8b0164a5a86602a296dece25bd56b72cc470e07d5f2c76b87d4ea3cf2"
  },
  "kernelspec": {
   "display_name": "Python 3.9.12 64-bit",
   "language": "python",
   "name": "python3"
  },
  "language_info": {
   "codemirror_mode": {
    "name": "ipython",
    "version": 3
   },
   "file_extension": ".py",
   "mimetype": "text/x-python",
   "name": "python",
   "nbconvert_exporter": "python",
   "pygments_lexer": "ipython3",
   "version": "3.9.12"
  },
  "orig_nbformat": 4
 },
 "nbformat": 4,
 "nbformat_minor": 2
}

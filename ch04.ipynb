{
 "cells": [
  {
   "cell_type": "code",
   "execution_count": 21,
   "metadata": {},
   "outputs": [
    {
     "name": "stdout",
     "output_type": "stream",
     "text": [
      "The nb_black extension is already loaded. To reload it, use:\n",
      "  %reload_ext nb_black\n"
     ]
    },
    {
     "data": {
      "application/javascript": "\n            setTimeout(function() {\n                var nbb_cell_id = 21;\n                var nbb_unformatted_code = \"%load_ext nb_black\\nimport numpy as np \\nimport matplotlib.pyplot as plt\\nimport pickle\\nimport scipy.special\";\n                var nbb_formatted_code = \"%load_ext nb_black\\nimport numpy as np\\nimport matplotlib.pyplot as plt\\nimport pickle\\nimport scipy.special\";\n                var nbb_cells = Jupyter.notebook.get_cells();\n                for (var i = 0; i < nbb_cells.length; ++i) {\n                    if (nbb_cells[i].input_prompt_number == nbb_cell_id) {\n                        if (nbb_cells[i].get_text() == nbb_unformatted_code) {\n                             nbb_cells[i].set_text(nbb_formatted_code);\n                        }\n                        break;\n                    }\n                }\n            }, 500);\n            ",
      "text/plain": [
       "<IPython.core.display.Javascript object>"
      ]
     },
     "metadata": {},
     "output_type": "display_data"
    }
   ],
   "source": [
    "%load_ext nb_black\n",
    "import numpy as np \n",
    "import matplotlib.pyplot as plt\n",
    "import pickle\n",
    "import scipy.special"
   ]
  },
  {
   "cell_type": "code",
   "execution_count": 4,
   "metadata": {},
   "outputs": [
    {
     "data": {
      "application/javascript": "\n            setTimeout(function() {\n                var nbb_cell_id = 4;\n                var nbb_unformatted_code = \"def sum_squared_error(y, t):\\n    return 0.5 * np.sum((y - t) ** 2)\";\n                var nbb_formatted_code = \"def sum_squared_error(y, t):\\n    return 0.5 * np.sum((y - t) ** 2)\";\n                var nbb_cells = Jupyter.notebook.get_cells();\n                for (var i = 0; i < nbb_cells.length; ++i) {\n                    if (nbb_cells[i].input_prompt_number == nbb_cell_id) {\n                        if (nbb_cells[i].get_text() == nbb_unformatted_code) {\n                             nbb_cells[i].set_text(nbb_formatted_code);\n                        }\n                        break;\n                    }\n                }\n            }, 500);\n            ",
      "text/plain": [
       "<IPython.core.display.Javascript object>"
      ]
     },
     "metadata": {},
     "output_type": "display_data"
    }
   ],
   "source": [
    "def sum_squared_error(y, t):\n",
    "    return 0.5 * np.sum((y - t) ** 2)"
   ]
  },
  {
   "cell_type": "code",
   "execution_count": 5,
   "metadata": {},
   "outputs": [
    {
     "name": "stdout",
     "output_type": "stream",
     "text": [
      "0.09750000000000003\n",
      "0.5975\n"
     ]
    },
    {
     "data": {
      "application/javascript": "\n            setTimeout(function() {\n                var nbb_cell_id = 5;\n                var nbb_unformatted_code = \"t = [0, 0, 1, 0, 0, 0, 0, 0, 0, 0]\\ny = [0.1, 0.05, 0.6, 0.0, 0.05, 0.1, 0.0, 0.1, 0.0, 0.0]\\nprint(sum_squared_error(np.array(y), np.array(t)))\\ny = [0.1, 0.05, 0.1, 0.0, 0.05, 0.1, 0.0, 0.6, 0.0, 0.0]\\nprint(sum_squared_error(np.array(y), np.array(t)))\";\n                var nbb_formatted_code = \"t = [0, 0, 1, 0, 0, 0, 0, 0, 0, 0]\\ny = [0.1, 0.05, 0.6, 0.0, 0.05, 0.1, 0.0, 0.1, 0.0, 0.0]\\nprint(sum_squared_error(np.array(y), np.array(t)))\\ny = [0.1, 0.05, 0.1, 0.0, 0.05, 0.1, 0.0, 0.6, 0.0, 0.0]\\nprint(sum_squared_error(np.array(y), np.array(t)))\";\n                var nbb_cells = Jupyter.notebook.get_cells();\n                for (var i = 0; i < nbb_cells.length; ++i) {\n                    if (nbb_cells[i].input_prompt_number == nbb_cell_id) {\n                        if (nbb_cells[i].get_text() == nbb_unformatted_code) {\n                             nbb_cells[i].set_text(nbb_formatted_code);\n                        }\n                        break;\n                    }\n                }\n            }, 500);\n            ",
      "text/plain": [
       "<IPython.core.display.Javascript object>"
      ]
     },
     "metadata": {},
     "output_type": "display_data"
    }
   ],
   "source": [
    "t = [0, 0, 1, 0, 0, 0, 0, 0, 0, 0]\n",
    "y = [0.1, 0.05, 0.6, 0.0, 0.05, 0.1, 0.0, 0.1, 0.0, 0.0]\n",
    "print(sum_squared_error(np.array(y), np.array(t)))\n",
    "y = [0.1, 0.05, 0.1, 0.0, 0.05, 0.1, 0.0, 0.6, 0.0, 0.0]\n",
    "print(sum_squared_error(np.array(y), np.array(t)))"
   ]
  },
  {
   "cell_type": "code",
   "execution_count": 6,
   "metadata": {},
   "outputs": [
    {
     "data": {
      "application/javascript": "\n            setTimeout(function() {\n                var nbb_cell_id = 6;\n                var nbb_unformatted_code = \"def cross_entropy_error(y, t):\\n    delta = 1e-7\\n    return -np.sum(t * np.log(y + delta))\";\n                var nbb_formatted_code = \"def cross_entropy_error(y, t):\\n    delta = 1e-7\\n    return -np.sum(t * np.log(y + delta))\";\n                var nbb_cells = Jupyter.notebook.get_cells();\n                for (var i = 0; i < nbb_cells.length; ++i) {\n                    if (nbb_cells[i].input_prompt_number == nbb_cell_id) {\n                        if (nbb_cells[i].get_text() == nbb_unformatted_code) {\n                             nbb_cells[i].set_text(nbb_formatted_code);\n                        }\n                        break;\n                    }\n                }\n            }, 500);\n            ",
      "text/plain": [
       "<IPython.core.display.Javascript object>"
      ]
     },
     "metadata": {},
     "output_type": "display_data"
    }
   ],
   "source": [
    "def cross_entropy_error(y, t):\n",
    "    delta = 1e-7\n",
    "    return -np.sum(t * np.log(y + delta))"
   ]
  },
  {
   "cell_type": "code",
   "execution_count": 7,
   "metadata": {},
   "outputs": [
    {
     "name": "stdout",
     "output_type": "stream",
     "text": [
      "0.510825457099338\n",
      "2.302584092994546\n"
     ]
    },
    {
     "data": {
      "application/javascript": "\n            setTimeout(function() {\n                var nbb_cell_id = 7;\n                var nbb_unformatted_code = \"t = [0, 0, 1, 0, 0, 0, 0, 0, 0, 0]\\ny = [0.1, 0.05, 0.6, 0.0, 0.05, 0.1, 0.0, 0.1, 0.0, 0.0]\\nprint(cross_entropy_error(np.array(y), np.array(t)))\\ny = [0.1, 0.05, 0.1, 0.0, 0.05, 0.1, 0.0, 0.6, 0.0, 0.0]\\nprint(cross_entropy_error(np.array(y), np.array(t)))\";\n                var nbb_formatted_code = \"t = [0, 0, 1, 0, 0, 0, 0, 0, 0, 0]\\ny = [0.1, 0.05, 0.6, 0.0, 0.05, 0.1, 0.0, 0.1, 0.0, 0.0]\\nprint(cross_entropy_error(np.array(y), np.array(t)))\\ny = [0.1, 0.05, 0.1, 0.0, 0.05, 0.1, 0.0, 0.6, 0.0, 0.0]\\nprint(cross_entropy_error(np.array(y), np.array(t)))\";\n                var nbb_cells = Jupyter.notebook.get_cells();\n                for (var i = 0; i < nbb_cells.length; ++i) {\n                    if (nbb_cells[i].input_prompt_number == nbb_cell_id) {\n                        if (nbb_cells[i].get_text() == nbb_unformatted_code) {\n                             nbb_cells[i].set_text(nbb_formatted_code);\n                        }\n                        break;\n                    }\n                }\n            }, 500);\n            ",
      "text/plain": [
       "<IPython.core.display.Javascript object>"
      ]
     },
     "metadata": {},
     "output_type": "display_data"
    }
   ],
   "source": [
    "t = [0, 0, 1, 0, 0, 0, 0, 0, 0, 0]\n",
    "y = [0.1, 0.05, 0.6, 0.0, 0.05, 0.1, 0.0, 0.1, 0.0, 0.0]\n",
    "print(cross_entropy_error(np.array(y), np.array(t)))\n",
    "y = [0.1, 0.05, 0.1, 0.0, 0.05, 0.1, 0.0, 0.6, 0.0, 0.0]\n",
    "print(cross_entropy_error(np.array(y), np.array(t)))"
   ]
  },
  {
   "cell_type": "code",
   "execution_count": 8,
   "metadata": {},
   "outputs": [
    {
     "name": "stdout",
     "output_type": "stream",
     "text": [
      "(60000, 784)\n",
      "(60000, 10)\n"
     ]
    },
    {
     "data": {
      "application/javascript": "\n            setTimeout(function() {\n                var nbb_cell_id = 8;\n                var nbb_unformatted_code = \"from mnist import load_mnist \\n\\n(x_train, t_train), (x_test, t_test) = load_mnist(normalize=True, one_hot_label=True)\\nprint(x_train.shape)\\nprint(t_train.shape)\";\n                var nbb_formatted_code = \"from mnist import load_mnist\\n\\n(x_train, t_train), (x_test, t_test) = load_mnist(normalize=True, one_hot_label=True)\\nprint(x_train.shape)\\nprint(t_train.shape)\";\n                var nbb_cells = Jupyter.notebook.get_cells();\n                for (var i = 0; i < nbb_cells.length; ++i) {\n                    if (nbb_cells[i].input_prompt_number == nbb_cell_id) {\n                        if (nbb_cells[i].get_text() == nbb_unformatted_code) {\n                             nbb_cells[i].set_text(nbb_formatted_code);\n                        }\n                        break;\n                    }\n                }\n            }, 500);\n            ",
      "text/plain": [
       "<IPython.core.display.Javascript object>"
      ]
     },
     "metadata": {},
     "output_type": "display_data"
    }
   ],
   "source": [
    "from mnist import load_mnist \n",
    "\n",
    "(x_train, t_train), (x_test, t_test) = load_mnist(normalize=True, one_hot_label=True)\n",
    "print(x_train.shape)\n",
    "print(t_train.shape)"
   ]
  },
  {
   "cell_type": "code",
   "execution_count": 9,
   "metadata": {},
   "outputs": [
    {
     "data": {
      "application/javascript": "\n            setTimeout(function() {\n                var nbb_cell_id = 9;\n                var nbb_unformatted_code = \"train_size = x_train.shape[0]\\nbatch_size = 10\\nbatch_mask = np.random.choice(train_size, batch_size)\\nx_batch = x_train[batch_mask]\\nt_batch = t_train[batch_mask]\";\n                var nbb_formatted_code = \"train_size = x_train.shape[0]\\nbatch_size = 10\\nbatch_mask = np.random.choice(train_size, batch_size)\\nx_batch = x_train[batch_mask]\\nt_batch = t_train[batch_mask]\";\n                var nbb_cells = Jupyter.notebook.get_cells();\n                for (var i = 0; i < nbb_cells.length; ++i) {\n                    if (nbb_cells[i].input_prompt_number == nbb_cell_id) {\n                        if (nbb_cells[i].get_text() == nbb_unformatted_code) {\n                             nbb_cells[i].set_text(nbb_formatted_code);\n                        }\n                        break;\n                    }\n                }\n            }, 500);\n            ",
      "text/plain": [
       "<IPython.core.display.Javascript object>"
      ]
     },
     "metadata": {},
     "output_type": "display_data"
    }
   ],
   "source": [
    "train_size = x_train.shape[0]\n",
    "batch_size = 10\n",
    "batch_mask = np.random.choice(train_size, batch_size)\n",
    "x_batch = x_train[batch_mask]\n",
    "t_batch = t_train[batch_mask]"
   ]
  },
  {
   "cell_type": "code",
   "execution_count": 10,
   "metadata": {},
   "outputs": [
    {
     "data": {
      "text/plain": [
       "array([28277, 26820, 36123, 15663, 28270, 45245, 18203,  8357, 39087,\n",
       "       44720])"
      ]
     },
     "execution_count": 10,
     "metadata": {},
     "output_type": "execute_result"
    },
    {
     "data": {
      "application/javascript": "\n            setTimeout(function() {\n                var nbb_cell_id = 10;\n                var nbb_unformatted_code = \"np.random.choice(60000, 10)\";\n                var nbb_formatted_code = \"np.random.choice(60000, 10)\";\n                var nbb_cells = Jupyter.notebook.get_cells();\n                for (var i = 0; i < nbb_cells.length; ++i) {\n                    if (nbb_cells[i].input_prompt_number == nbb_cell_id) {\n                        if (nbb_cells[i].get_text() == nbb_unformatted_code) {\n                             nbb_cells[i].set_text(nbb_formatted_code);\n                        }\n                        break;\n                    }\n                }\n            }, 500);\n            ",
      "text/plain": [
       "<IPython.core.display.Javascript object>"
      ]
     },
     "metadata": {},
     "output_type": "display_data"
    }
   ],
   "source": [
    "np.random.choice(60000, 10)"
   ]
  },
  {
   "cell_type": "code",
   "execution_count": 24,
   "metadata": {},
   "outputs": [
    {
     "data": {
      "application/javascript": "\n            setTimeout(function() {\n                var nbb_cell_id = 24;\n                var nbb_unformatted_code = \"def cross_entropy_error(y, t):\\n    if y.ndim == 1:\\n        t = t.reshape(1, t.size)\\n        y = y.reshape(1, y.size)\\n\\n    batch_size = y.shape[0]\\n    return -np.sum(t * np.log(y + 1e-7)) / batch_size\";\n                var nbb_formatted_code = \"def cross_entropy_error(y, t):\\n    if y.ndim == 1:\\n        t = t.reshape(1, t.size)\\n        y = y.reshape(1, y.size)\\n\\n    batch_size = y.shape[0]\\n    return -np.sum(t * np.log(y + 1e-7)) / batch_size\";\n                var nbb_cells = Jupyter.notebook.get_cells();\n                for (var i = 0; i < nbb_cells.length; ++i) {\n                    if (nbb_cells[i].input_prompt_number == nbb_cell_id) {\n                        if (nbb_cells[i].get_text() == nbb_unformatted_code) {\n                             nbb_cells[i].set_text(nbb_formatted_code);\n                        }\n                        break;\n                    }\n                }\n            }, 500);\n            ",
      "text/plain": [
       "<IPython.core.display.Javascript object>"
      ]
     },
     "metadata": {},
     "output_type": "display_data"
    }
   ],
   "source": [
    "def cross_entropy_error(y, t):\n",
    "    if y.ndim == 1:\n",
    "        t = t.reshape(1, t.size)\n",
    "        y = y.reshape(1, y.size)\n",
    "\n",
    "    batch_size = y.shape[0]\n",
    "    return -np.sum(t * np.log(y + 1e-7)) / batch_size"
   ]
  },
  {
   "cell_type": "code",
   "execution_count": 44,
   "metadata": {},
   "outputs": [
    {
     "data": {
      "application/javascript": "\n            setTimeout(function() {\n                var nbb_cell_id = 44;\n                var nbb_unformatted_code = \"def numerical_gradient(f, x):\\n    print(x)\\n    h = 1e-4\\n    grad = np.zeros_like(x)  # x \\u3068\\u540c\\u3058\\u5f62\\u72b6\\u306e\\u914d\\u5217\\u3092\\u751f\\u6210\\n    for idx in range(x.size):\\n        tmp_val = x[idx]\\n        # f(x + h)\\n        x[idx] = tmp_val + h \\n        fxh1 = f(x)\\n        # f(x - h)\\n        x[idx] = tmp_val - h\\n        fxh2 = f(x)\\n\\n        grad[idx] = (fxh1 - fxh2) / (2 * h)\\n        x[idx] = tmp_val \\n    return grad\";\n                var nbb_formatted_code = \"def numerical_gradient(f, x):\\n    print(x)\\n    h = 1e-4\\n    grad = np.zeros_like(x)  # x \\u3068\\u540c\\u3058\\u5f62\\u72b6\\u306e\\u914d\\u5217\\u3092\\u751f\\u6210\\n    for idx in range(x.size):\\n        tmp_val = x[idx]\\n        # f(x + h)\\n        x[idx] = tmp_val + h\\n        fxh1 = f(x)\\n        # f(x - h)\\n        x[idx] = tmp_val - h\\n        fxh2 = f(x)\\n\\n        grad[idx] = (fxh1 - fxh2) / (2 * h)\\n        x[idx] = tmp_val\\n    return grad\";\n                var nbb_cells = Jupyter.notebook.get_cells();\n                for (var i = 0; i < nbb_cells.length; ++i) {\n                    if (nbb_cells[i].input_prompt_number == nbb_cell_id) {\n                        if (nbb_cells[i].get_text() == nbb_unformatted_code) {\n                             nbb_cells[i].set_text(nbb_formatted_code);\n                        }\n                        break;\n                    }\n                }\n            }, 500);\n            ",
      "text/plain": [
       "<IPython.core.display.Javascript object>"
      ]
     },
     "metadata": {},
     "output_type": "display_data"
    }
   ],
   "source": [
    "def numerical_gradient(f, x):\n",
    "    print(x)\n",
    "    h = 1e-4\n",
    "    grad = np.zeros_like(x)  # x と同じ形状の配列を生成\n",
    "    for idx in range(x.size):\n",
    "        tmp_val = x[idx]\n",
    "        # f(x + h)\n",
    "        x[idx] = tmp_val + h \n",
    "        fxh1 = f(x)\n",
    "        # f(x - h)\n",
    "        x[idx] = tmp_val - h\n",
    "        fxh2 = f(x)\n",
    "\n",
    "        grad[idx] = (fxh1 - fxh2) / (2 * h)\n",
    "        x[idx] = tmp_val \n",
    "    return grad"
   ]
  },
  {
   "cell_type": "code",
   "execution_count": 26,
   "metadata": {},
   "outputs": [
    {
     "data": {
      "application/javascript": "\n            setTimeout(function() {\n                var nbb_cell_id = 26;\n                var nbb_unformatted_code = \"def gradient_descent(f, init_x, lr=0.01, step_num =100):\\n    x = init_x\\n    for i in range(step_num):\\n        grad = numerical_gradient(f, x)\\n        x -= lr * grad \\n    return x\";\n                var nbb_formatted_code = \"def gradient_descent(f, init_x, lr=0.01, step_num=100):\\n    x = init_x\\n    for i in range(step_num):\\n        grad = numerical_gradient(f, x)\\n        x -= lr * grad\\n    return x\";\n                var nbb_cells = Jupyter.notebook.get_cells();\n                for (var i = 0; i < nbb_cells.length; ++i) {\n                    if (nbb_cells[i].input_prompt_number == nbb_cell_id) {\n                        if (nbb_cells[i].get_text() == nbb_unformatted_code) {\n                             nbb_cells[i].set_text(nbb_formatted_code);\n                        }\n                        break;\n                    }\n                }\n            }, 500);\n            ",
      "text/plain": [
       "<IPython.core.display.Javascript object>"
      ]
     },
     "metadata": {},
     "output_type": "display_data"
    }
   ],
   "source": [
    "def gradient_descent(f, init_x, lr=0.01, step_num =100):\n",
    "    x = init_x\n",
    "    for i in range(step_num):\n",
    "        grad = numerical_gradient(f, x)\n",
    "        x -= lr * grad \n",
    "    return x"
   ]
  },
  {
   "cell_type": "code",
   "execution_count": 27,
   "metadata": {},
   "outputs": [
    {
     "data": {
      "text/plain": [
       "array([-6.11110793e-10,  8.14814391e-10])"
      ]
     },
     "execution_count": 27,
     "metadata": {},
     "output_type": "execute_result"
    },
    {
     "data": {
      "application/javascript": "\n            setTimeout(function() {\n                var nbb_cell_id = 27;\n                var nbb_unformatted_code = \"def func2(x):\\n    return x[0] ** 2 + x[1] ** 2\\n\\ninit_x = np.array([-3.0, 4.0])\\ngradient_descent(func2, init_x, 0.1, 100)\";\n                var nbb_formatted_code = \"def func2(x):\\n    return x[0] ** 2 + x[1] ** 2\\n\\n\\ninit_x = np.array([-3.0, 4.0])\\ngradient_descent(func2, init_x, 0.1, 100)\";\n                var nbb_cells = Jupyter.notebook.get_cells();\n                for (var i = 0; i < nbb_cells.length; ++i) {\n                    if (nbb_cells[i].input_prompt_number == nbb_cell_id) {\n                        if (nbb_cells[i].get_text() == nbb_unformatted_code) {\n                             nbb_cells[i].set_text(nbb_formatted_code);\n                        }\n                        break;\n                    }\n                }\n            }, 500);\n            ",
      "text/plain": [
       "<IPython.core.display.Javascript object>"
      ]
     },
     "metadata": {},
     "output_type": "display_data"
    }
   ],
   "source": [
    "def func2(x):\n",
    "    return x[0] ** 2 + x[1] ** 2\n",
    "\n",
    "init_x = np.array([-3.0, 4.0])\n",
    "gradient_descent(func2, init_x, 0.1, 100)"
   ]
  },
  {
   "cell_type": "code",
   "execution_count": 28,
   "metadata": {},
   "outputs": [
    {
     "data": {
      "text/plain": [
       "array([-2.58983747e+13, -1.29524862e+12])"
      ]
     },
     "execution_count": 28,
     "metadata": {},
     "output_type": "execute_result"
    },
    {
     "data": {
      "application/javascript": "\n            setTimeout(function() {\n                var nbb_cell_id = 28;\n                var nbb_unformatted_code = \"init_x = np.array([-3.0, 4.0])\\ngradient_descent(func2, init_x, 10, 100)\";\n                var nbb_formatted_code = \"init_x = np.array([-3.0, 4.0])\\ngradient_descent(func2, init_x, 10, 100)\";\n                var nbb_cells = Jupyter.notebook.get_cells();\n                for (var i = 0; i < nbb_cells.length; ++i) {\n                    if (nbb_cells[i].input_prompt_number == nbb_cell_id) {\n                        if (nbb_cells[i].get_text() == nbb_unformatted_code) {\n                             nbb_cells[i].set_text(nbb_formatted_code);\n                        }\n                        break;\n                    }\n                }\n            }, 500);\n            ",
      "text/plain": [
       "<IPython.core.display.Javascript object>"
      ]
     },
     "metadata": {},
     "output_type": "display_data"
    }
   ],
   "source": [
    "init_x = np.array([-3.0, 4.0])\n",
    "gradient_descent(func2, init_x, 10, 100)"
   ]
  },
  {
   "cell_type": "code",
   "execution_count": 29,
   "metadata": {},
   "outputs": [
    {
     "data": {
      "text/plain": [
       "array([-2.99999994,  3.99999992])"
      ]
     },
     "execution_count": 29,
     "metadata": {},
     "output_type": "execute_result"
    },
    {
     "data": {
      "application/javascript": "\n            setTimeout(function() {\n                var nbb_cell_id = 29;\n                var nbb_unformatted_code = \"init_x = np.array([-3.0, 4.0])\\ngradient_descent(func2, init_x, 1e-10, 100)\";\n                var nbb_formatted_code = \"init_x = np.array([-3.0, 4.0])\\ngradient_descent(func2, init_x, 1e-10, 100)\";\n                var nbb_cells = Jupyter.notebook.get_cells();\n                for (var i = 0; i < nbb_cells.length; ++i) {\n                    if (nbb_cells[i].input_prompt_number == nbb_cell_id) {\n                        if (nbb_cells[i].get_text() == nbb_unformatted_code) {\n                             nbb_cells[i].set_text(nbb_formatted_code);\n                        }\n                        break;\n                    }\n                }\n            }, 500);\n            ",
      "text/plain": [
       "<IPython.core.display.Javascript object>"
      ]
     },
     "metadata": {},
     "output_type": "display_data"
    }
   ],
   "source": [
    "init_x = np.array([-3.0, 4.0])\n",
    "gradient_descent(func2, init_x, 1e-10, 100)"
   ]
  },
  {
   "cell_type": "code",
   "execution_count": 30,
   "metadata": {},
   "outputs": [
    {
     "data": {
      "application/javascript": "\n            setTimeout(function() {\n                var nbb_cell_id = 30;\n                var nbb_unformatted_code = \"class SimpleNet:\\n    def __init__(self):\\n        self.w = np.random.randn(2, 3) \\n\\n    def predict(self, x):\\n        return np.dot(x, self.w)\\n\\n    def loss(self, x, t):\\n        z = self.predict(x)\\n        y = scipy.special.softmax(z)\\n        loss = cross_entropy_error(y, t)\\n        return loss \";\n                var nbb_formatted_code = \"class SimpleNet:\\n    def __init__(self):\\n        self.w = np.random.randn(2, 3)\\n\\n    def predict(self, x):\\n        return np.dot(x, self.w)\\n\\n    def loss(self, x, t):\\n        z = self.predict(x)\\n        y = scipy.special.softmax(z)\\n        loss = cross_entropy_error(y, t)\\n        return loss\";\n                var nbb_cells = Jupyter.notebook.get_cells();\n                for (var i = 0; i < nbb_cells.length; ++i) {\n                    if (nbb_cells[i].input_prompt_number == nbb_cell_id) {\n                        if (nbb_cells[i].get_text() == nbb_unformatted_code) {\n                             nbb_cells[i].set_text(nbb_formatted_code);\n                        }\n                        break;\n                    }\n                }\n            }, 500);\n            ",
      "text/plain": [
       "<IPython.core.display.Javascript object>"
      ]
     },
     "metadata": {},
     "output_type": "display_data"
    }
   ],
   "source": [
    "class SimpleNet:\n",
    "    def __init__(self):\n",
    "        self.w = np.random.randn(2, 3) \n",
    "\n",
    "    def predict(self, x):\n",
    "        return np.dot(x, self.w)\n",
    "\n",
    "    def loss(self, x, t):\n",
    "        z = self.predict(x)\n",
    "        y = scipy.special.softmax(z)\n",
    "        loss = cross_entropy_error(y, t)\n",
    "        return loss "
   ]
  },
  {
   "cell_type": "code",
   "execution_count": 46,
   "metadata": {},
   "outputs": [
    {
     "data": {
      "application/javascript": "\n            setTimeout(function() {\n                var nbb_cell_id = 46;\n                var nbb_unformatted_code = \"def numerical_gradient(f, x):\\n    h = 1e-4\\n    grad = np.zeros_like(x)\\n\\n    it = np.nditer(x, flags=['multi_index'], op_flags=['readwrite'])\\n    while not it.finished:\\n        idx = it.multi_index\\n        tmp_val = x[idx]\\n        x[idx] = tmp_val + h\\n        fxh1 = f(x)  # f(x + h)\\n        \\n        x[idx] = tmp_val - h\\n        fxh2 = f(x)  # f(x - h)\\n        grad[idx] = (fxh1 - fxh2) / (2 * h)\\n\\n        x[idx] = tmp_val\\n        it.iternext()\\n    \\n    return grad\";\n                var nbb_formatted_code = \"def numerical_gradient(f, x):\\n    h = 1e-4\\n    grad = np.zeros_like(x)\\n\\n    it = np.nditer(x, flags=[\\\"multi_index\\\"], op_flags=[\\\"readwrite\\\"])\\n    while not it.finished:\\n        idx = it.multi_index\\n        tmp_val = x[idx]\\n        x[idx] = tmp_val + h\\n        fxh1 = f(x)  # f(x + h)\\n\\n        x[idx] = tmp_val - h\\n        fxh2 = f(x)  # f(x - h)\\n        grad[idx] = (fxh1 - fxh2) / (2 * h)\\n\\n        x[idx] = tmp_val\\n        it.iternext()\\n\\n    return grad\";\n                var nbb_cells = Jupyter.notebook.get_cells();\n                for (var i = 0; i < nbb_cells.length; ++i) {\n                    if (nbb_cells[i].input_prompt_number == nbb_cell_id) {\n                        if (nbb_cells[i].get_text() == nbb_unformatted_code) {\n                             nbb_cells[i].set_text(nbb_formatted_code);\n                        }\n                        break;\n                    }\n                }\n            }, 500);\n            ",
      "text/plain": [
       "<IPython.core.display.Javascript object>"
      ]
     },
     "metadata": {},
     "output_type": "display_data"
    }
   ],
   "source": [
    "def numerical_gradient(f, x):\n",
    "    h = 1e-4\n",
    "    grad = np.zeros_like(x)\n",
    "\n",
    "    it = np.nditer(x, flags=['multi_index'], op_flags=['readwrite'])\n",
    "    while not it.finished:\n",
    "        idx = it.multi_index\n",
    "        tmp_val = x[idx]\n",
    "        x[idx] = tmp_val + h\n",
    "        fxh1 = f(x)  # f(x + h)\n",
    "        \n",
    "        x[idx] = tmp_val - h\n",
    "        fxh2 = f(x)  # f(x - h)\n",
    "        grad[idx] = (fxh1 - fxh2) / (2 * h)\n",
    "\n",
    "        x[idx] = tmp_val\n",
    "        it.iternext()\n",
    "    \n",
    "    return grad"
   ]
  },
  {
   "cell_type": "code",
   "execution_count": 47,
   "metadata": {},
   "outputs": [
    {
     "name": "stdout",
     "output_type": "stream",
     "text": [
      "[[-0.29791728  0.82569797 -0.5372849 ]\n",
      " [-0.39811187 -0.80979695  0.21523969]]\n",
      "[-0.53705105 -0.23339848 -0.12865522]\n",
      "2\n"
     ]
    },
    {
     "data": {
      "text/plain": [
       "0.9420640312482158"
      ]
     },
     "execution_count": 47,
     "metadata": {},
     "output_type": "execute_result"
    },
    {
     "data": {
      "application/javascript": "\n            setTimeout(function() {\n                var nbb_cell_id = 47;\n                var nbb_unformatted_code = \"net = SimpleNet()\\nprint(net.w)\\nx = np.array([0.6, 0.9])\\np = net.predict(x)\\nprint(p)\\nprint(np.argmax(p))\\nt = np.array([0, 0, 1])\\nnet.loss(x, t)\";\n                var nbb_formatted_code = \"net = SimpleNet()\\nprint(net.w)\\nx = np.array([0.6, 0.9])\\np = net.predict(x)\\nprint(p)\\nprint(np.argmax(p))\\nt = np.array([0, 0, 1])\\nnet.loss(x, t)\";\n                var nbb_cells = Jupyter.notebook.get_cells();\n                for (var i = 0; i < nbb_cells.length; ++i) {\n                    if (nbb_cells[i].input_prompt_number == nbb_cell_id) {\n                        if (nbb_cells[i].get_text() == nbb_unformatted_code) {\n                             nbb_cells[i].set_text(nbb_formatted_code);\n                        }\n                        break;\n                    }\n                }\n            }, 500);\n            ",
      "text/plain": [
       "<IPython.core.display.Javascript object>"
      ]
     },
     "metadata": {},
     "output_type": "display_data"
    }
   ],
   "source": [
    "net = SimpleNet()\n",
    "print(net.w)\n",
    "x = np.array([0.6, 0.9])\n",
    "p = net.predict(x)\n",
    "print(p)\n",
    "print(np.argmax(p))\n",
    "t = np.array([0, 0, 1])\n",
    "net.loss(x, t)"
   ]
  },
  {
   "cell_type": "code",
   "execution_count": 48,
   "metadata": {},
   "outputs": [
    {
     "name": "stdout",
     "output_type": "stream",
     "text": [
      "[[-0.29791728  0.82569797 -0.5372849 ]\n",
      " [-0.39811187 -0.80979695  0.21523969]]\n",
      "[[ 0.15547256  0.21063396 -0.36610653]\n",
      " [ 0.23320885  0.31595094 -0.54915979]]\n"
     ]
    },
    {
     "data": {
      "application/javascript": "\n            setTimeout(function() {\n                var nbb_cell_id = 48;\n                var nbb_unformatted_code = \"def f(w):\\n    return net.loss(x, t)\\n\\nprint(net.w)\\ndw = numerical_gradient(f, net.w)\\nprint(dw)\";\n                var nbb_formatted_code = \"def f(w):\\n    return net.loss(x, t)\\n\\n\\nprint(net.w)\\ndw = numerical_gradient(f, net.w)\\nprint(dw)\";\n                var nbb_cells = Jupyter.notebook.get_cells();\n                for (var i = 0; i < nbb_cells.length; ++i) {\n                    if (nbb_cells[i].input_prompt_number == nbb_cell_id) {\n                        if (nbb_cells[i].get_text() == nbb_unformatted_code) {\n                             nbb_cells[i].set_text(nbb_formatted_code);\n                        }\n                        break;\n                    }\n                }\n            }, 500);\n            ",
      "text/plain": [
       "<IPython.core.display.Javascript object>"
      ]
     },
     "metadata": {},
     "output_type": "display_data"
    }
   ],
   "source": [
    "def f(w):\n",
    "    return net.loss(x, t)\n",
    "\n",
    "print(net.w)\n",
    "dw = numerical_gradient(f, net.w)\n",
    "print(dw)"
   ]
  },
  {
   "cell_type": "code",
   "execution_count": 41,
   "metadata": {},
   "outputs": [
    {
     "data": {
      "text/plain": [
       "array([[ 0.11292675,  1.419947  ,  0.83542899],\n",
       "       [ 0.53091949, -0.02265948, -0.40730274]])"
      ]
     },
     "execution_count": 41,
     "metadata": {},
     "output_type": "execute_result"
    },
    {
     "data": {
      "application/javascript": "\n            setTimeout(function() {\n                var nbb_cell_id = 41;\n                var nbb_unformatted_code = \"np.random.randn(2,3)\";\n                var nbb_formatted_code = \"np.random.randn(2, 3)\";\n                var nbb_cells = Jupyter.notebook.get_cells();\n                for (var i = 0; i < nbb_cells.length; ++i) {\n                    if (nbb_cells[i].input_prompt_number == nbb_cell_id) {\n                        if (nbb_cells[i].get_text() == nbb_unformatted_code) {\n                             nbb_cells[i].set_text(nbb_formatted_code);\n                        }\n                        break;\n                    }\n                }\n            }, 500);\n            ",
      "text/plain": [
       "<IPython.core.display.Javascript object>"
      ]
     },
     "metadata": {},
     "output_type": "display_data"
    }
   ],
   "source": [
    "np.random.randn(2,3)"
   ]
  },
  {
   "cell_type": "code",
   "execution_count": 53,
   "metadata": {},
   "outputs": [
    {
     "data": {
      "application/javascript": "\n            setTimeout(function() {\n                var nbb_cell_id = 53;\n                var nbb_unformatted_code = \"class TwoLayerNet:\\n    def __init__(self, input_size, hidden_size, output_size, weight_init_std=0.01):\\n        self.params = {}\\n        self.params[\\\"w1\\\"] = weight_init_std * np.random.randn(input_size, hidden_size)\\n        self.params[\\\"b1\\\"] = np.zeros(hidden_size)\\n        self.params[\\\"w2\\\"] = weight_init_std * np.random.randn(hidden_size, output_size)\\n        self.params[\\\"b2\\\"] = np.zeros(output_size)\\n\\n    def predict(self, x):\\n        w1, w2 = self.params[\\\"w1\\\"], self.params[\\\"w2\\\"]\\n        b1, b2 = self.params[\\\"b1\\\"], self.params[\\\"b2\\\"]\\n\\n        a1 = np.dot(x, w1) + b1\\n        z1 = scipy.special.expit(a1)  # sigmoid \\n        a2 = np.dot(z1, w2) + b2\\n        y = scipy.special.softmax(a2)\\n        return y \\n\\n    def loss(self, x, t):\\n        y = self.predict(x)\\n        return cross_entropy_error(y, t)\\n\\n    def accuracy(self, x, t):\\n        y = self.predict(x)\\n        y = np.argmax(y, axis=1)\\n        t = np.argmax(t, axis=1)\\n\\n        accuracy = np.sum(y == t) / float(x.shape[0])\\n        return accuracy\\n\\n    def numerical_gradient(self, x, t):\\n        loss_w = lambda w: self.loss(x, t)\\n\\n        grads = {}\\n        grads[\\\"w1\\\"] = numerical_gradient(loss_w, self.params[\\\"w1\\\"])\\n        grads[\\\"b1\\\"] = numerical_gradient(loss_w, self.params[\\\"b1\\\"])\\n        grads[\\\"w2\\\"] = numerical_gradient(loss_w, self.params[\\\"w2\\\"])\\n        grads[\\\"b2\\\"] = numerical_gradient(loss_w, self.params[\\\"b2\\\"])\\n\\n        return grads\";\n                var nbb_formatted_code = \"class TwoLayerNet:\\n    def __init__(self, input_size, hidden_size, output_size, weight_init_std=0.01):\\n        self.params = {}\\n        self.params[\\\"w1\\\"] = weight_init_std * np.random.randn(input_size, hidden_size)\\n        self.params[\\\"b1\\\"] = np.zeros(hidden_size)\\n        self.params[\\\"w2\\\"] = weight_init_std * np.random.randn(hidden_size, output_size)\\n        self.params[\\\"b2\\\"] = np.zeros(output_size)\\n\\n    def predict(self, x):\\n        w1, w2 = self.params[\\\"w1\\\"], self.params[\\\"w2\\\"]\\n        b1, b2 = self.params[\\\"b1\\\"], self.params[\\\"b2\\\"]\\n\\n        a1 = np.dot(x, w1) + b1\\n        z1 = scipy.special.expit(a1)  # sigmoid\\n        a2 = np.dot(z1, w2) + b2\\n        y = scipy.special.softmax(a2)\\n        return y\\n\\n    def loss(self, x, t):\\n        y = self.predict(x)\\n        return cross_entropy_error(y, t)\\n\\n    def accuracy(self, x, t):\\n        y = self.predict(x)\\n        y = np.argmax(y, axis=1)\\n        t = np.argmax(t, axis=1)\\n\\n        accuracy = np.sum(y == t) / float(x.shape[0])\\n        return accuracy\\n\\n    def numerical_gradient(self, x, t):\\n        loss_w = lambda w: self.loss(x, t)\\n\\n        grads = {}\\n        grads[\\\"w1\\\"] = numerical_gradient(loss_w, self.params[\\\"w1\\\"])\\n        grads[\\\"b1\\\"] = numerical_gradient(loss_w, self.params[\\\"b1\\\"])\\n        grads[\\\"w2\\\"] = numerical_gradient(loss_w, self.params[\\\"w2\\\"])\\n        grads[\\\"b2\\\"] = numerical_gradient(loss_w, self.params[\\\"b2\\\"])\\n\\n        return grads\";\n                var nbb_cells = Jupyter.notebook.get_cells();\n                for (var i = 0; i < nbb_cells.length; ++i) {\n                    if (nbb_cells[i].input_prompt_number == nbb_cell_id) {\n                        if (nbb_cells[i].get_text() == nbb_unformatted_code) {\n                             nbb_cells[i].set_text(nbb_formatted_code);\n                        }\n                        break;\n                    }\n                }\n            }, 500);\n            ",
      "text/plain": [
       "<IPython.core.display.Javascript object>"
      ]
     },
     "metadata": {},
     "output_type": "display_data"
    }
   ],
   "source": [
    "class TwoLayerNet:\n",
    "    def __init__(self, input_size, hidden_size, output_size, weight_init_std=0.01):\n",
    "        self.params = {}\n",
    "        self.params[\"w1\"] = weight_init_std * np.random.randn(input_size, hidden_size)\n",
    "        self.params[\"b1\"] = np.zeros(hidden_size)\n",
    "        self.params[\"w2\"] = weight_init_std * np.random.randn(hidden_size, output_size)\n",
    "        self.params[\"b2\"] = np.zeros(output_size)\n",
    "\n",
    "    def predict(self, x):\n",
    "        w1, w2 = self.params[\"w1\"], self.params[\"w2\"]\n",
    "        b1, b2 = self.params[\"b1\"], self.params[\"b2\"]\n",
    "\n",
    "        a1 = np.dot(x, w1) + b1\n",
    "        z1 = scipy.special.expit(a1)  # sigmoid \n",
    "        a2 = np.dot(z1, w2) + b2\n",
    "        y = scipy.special.softmax(a2)\n",
    "        return y \n",
    "\n",
    "    def loss(self, x, t):\n",
    "        y = self.predict(x)\n",
    "        return cross_entropy_error(y, t)\n",
    "\n",
    "    def accuracy(self, x, t):\n",
    "        y = self.predict(x)\n",
    "        y = np.argmax(y, axis=1)\n",
    "        t = np.argmax(t, axis=1)\n",
    "\n",
    "        accuracy = np.sum(y == t) / float(x.shape[0])\n",
    "        return accuracy\n",
    "\n",
    "    def numerical_gradient(self, x, t):\n",
    "        loss_w = lambda w: self.loss(x, t)\n",
    "\n",
    "        grads = {}\n",
    "        grads[\"w1\"] = numerical_gradient(loss_w, self.params[\"w1\"])\n",
    "        grads[\"b1\"] = numerical_gradient(loss_w, self.params[\"b1\"])\n",
    "        grads[\"w2\"] = numerical_gradient(loss_w, self.params[\"w2\"])\n",
    "        grads[\"b2\"] = numerical_gradient(loss_w, self.params[\"b2\"])\n",
    "\n",
    "        return grads\n"
   ]
  },
  {
   "cell_type": "code",
   "execution_count": 54,
   "metadata": {},
   "outputs": [
    {
     "name": "stdout",
     "output_type": "stream",
     "text": [
      "(784, 100)\n",
      "(100,)\n",
      "(100, 10)\n",
      "(10,)\n"
     ]
    },
    {
     "data": {
      "application/javascript": "\n            setTimeout(function() {\n                var nbb_cell_id = 54;\n                var nbb_unformatted_code = \"net = TwoLayerNet(input_size=784, hidden_size=100, output_size=10)\\nfor p in net.params.values():\\n    print(p.shape)\";\n                var nbb_formatted_code = \"net = TwoLayerNet(input_size=784, hidden_size=100, output_size=10)\\nfor p in net.params.values():\\n    print(p.shape)\";\n                var nbb_cells = Jupyter.notebook.get_cells();\n                for (var i = 0; i < nbb_cells.length; ++i) {\n                    if (nbb_cells[i].input_prompt_number == nbb_cell_id) {\n                        if (nbb_cells[i].get_text() == nbb_unformatted_code) {\n                             nbb_cells[i].set_text(nbb_formatted_code);\n                        }\n                        break;\n                    }\n                }\n            }, 500);\n            ",
      "text/plain": [
       "<IPython.core.display.Javascript object>"
      ]
     },
     "metadata": {},
     "output_type": "display_data"
    }
   ],
   "source": [
    "net = TwoLayerNet(input_size=784, hidden_size=100, output_size=10)\n",
    "for p in net.params.values():\n",
    "    print(p.shape)"
   ]
  },
  {
   "cell_type": "code",
   "execution_count": 55,
   "metadata": {},
   "outputs": [
    {
     "data": {
      "application/javascript": "\n            setTimeout(function() {\n                var nbb_cell_id = 55;\n                var nbb_unformatted_code = \"x = np.random.rand(100, 784)\\ny = net.predict(x)\";\n                var nbb_formatted_code = \"x = np.random.rand(100, 784)\\ny = net.predict(x)\";\n                var nbb_cells = Jupyter.notebook.get_cells();\n                for (var i = 0; i < nbb_cells.length; ++i) {\n                    if (nbb_cells[i].input_prompt_number == nbb_cell_id) {\n                        if (nbb_cells[i].get_text() == nbb_unformatted_code) {\n                             nbb_cells[i].set_text(nbb_formatted_code);\n                        }\n                        break;\n                    }\n                }\n            }, 500);\n            ",
      "text/plain": [
       "<IPython.core.display.Javascript object>"
      ]
     },
     "metadata": {},
     "output_type": "display_data"
    }
   ],
   "source": [
    "x = np.random.rand(100, 784)\n",
    "y = net.predict(x)"
   ]
  },
  {
   "cell_type": "code",
   "execution_count": 57,
   "metadata": {},
   "outputs": [
    {
     "name": "stdout",
     "output_type": "stream",
     "text": [
      "(784, 100)\n",
      "(100,)\n",
      "(100, 10)\n",
      "(10,)\n"
     ]
    },
    {
     "data": {
      "application/javascript": "\n            setTimeout(function() {\n                var nbb_cell_id = 57;\n                var nbb_unformatted_code = \"x = np.random.rand(100, 784)\\nt = np.random.rand(100, 10)\\n\\ngrads = net.numerical_gradient(x, t)\\nfor g in grads.values():\\n    print(g.shape)\";\n                var nbb_formatted_code = \"x = np.random.rand(100, 784)\\nt = np.random.rand(100, 10)\\n\\ngrads = net.numerical_gradient(x, t)\\nfor g in grads.values():\\n    print(g.shape)\";\n                var nbb_cells = Jupyter.notebook.get_cells();\n                for (var i = 0; i < nbb_cells.length; ++i) {\n                    if (nbb_cells[i].input_prompt_number == nbb_cell_id) {\n                        if (nbb_cells[i].get_text() == nbb_unformatted_code) {\n                             nbb_cells[i].set_text(nbb_formatted_code);\n                        }\n                        break;\n                    }\n                }\n            }, 500);\n            ",
      "text/plain": [
       "<IPython.core.display.Javascript object>"
      ]
     },
     "metadata": {},
     "output_type": "display_data"
    }
   ],
   "source": [
    "x = np.random.rand(100, 784)\n",
    "t = np.random.rand(100, 10)\n",
    "\n",
    "grads = net.numerical_gradient(x, t)\n",
    "for g in grads.values():\n",
    "    print(g.shape)"
   ]
  },
  {
   "cell_type": "code",
   "execution_count": null,
   "metadata": {},
   "outputs": [],
   "source": [
    "(x_train, t_train), (x_test, t_test) = load_mnist(normalize=True, one_hot_label=True)\n",
    "train_loss_list = []\n",
    "\n",
    "niters = 10000\n",
    "train_size = x_train.shape[0]\n",
    "batch_size = 100\n",
    "learning_rate = 0.1\n",
    "\n",
    "network = TwoLayerNet(input_size=784, hidden_size=50, output_size=10)\n",
    "\n",
    "for i in range(niters):\n",
    "    batch_mask = np.random.choice(train_size, batch_size)\n",
    "    x_batch = x_train[batch_mask]\n",
    "    t_batch = t_train[batch_mask]\n",
    "\n",
    "    grad = network.numerical_gradient(x_batch, t_batch)\n",
    "\n",
    "    for key in ('w1', 'b1', 'w2', 'b2'):\n",
    "        network.params[key] -= learning_rate * grad[key]\n",
    "\n",
    "    loss = network.loss(x_batch, t_batch)\n",
    "    train_loss_list.append(loss)\n"
   ]
  },
  {
   "cell_type": "code",
   "execution_count": null,
   "metadata": {},
   "outputs": [],
   "source": [
    "(x_train, t_train), (x_test, t_test) = load_mnist(normalize=True, one_hot_label=True)\n",
    "train_loss_list = []\n",
    "train_acc_list = []\n",
    "test_acc_list = []\n",
    "\n",
    "niters = 10000\n",
    "train_size = x_train.shape[0]\n",
    "batch_size = 100\n",
    "learning_rate = 0.1\n",
    "iter_per_epoch = max(train_size/ batch_size, 1)\n",
    "\n",
    "network = TwoLayerNet(input_size=784, hidden_size=50, output_size=10)\n",
    "\n",
    "for i in range(niters):\n",
    "    batch_mask = np.random.choice(train_size, batch_size)\n",
    "    x_batch = x_train[batch_mask]\n",
    "    t_batch = t_train[batch_mask]\n",
    "\n",
    "    grad = network.numerical_gradient(x_batch, t_batch)\n",
    "\n",
    "    for key in ('w1', 'b1', 'w2', 'b2'):\n",
    "        network.params[key] -= learning_rate * grad[key]\n",
    "\n",
    "    loss = network.loss(x_batch, t_batch)\n",
    "    train_loss_list.append(loss)\n",
    "\n",
    "    if i % iter_per_epoch == 0:\n",
    "        train_acc = network.accuracy(x_train, t_train)\n",
    "        test_acc = network.accuracy(x_test, t_test)\n",
    "        train_acc_list.append(train_acc)\n",
    "        test_acc_list.append(test_acc)\n",
    "        print(f\"train acc: {train_acc}, test acc: {test_acc}\")"
   ]
  },
  {
   "cell_type": "code",
   "execution_count": null,
   "metadata": {},
   "outputs": [],
   "source": []
  }
 ],
 "metadata": {
  "interpreter": {
   "hash": "e05b10c8b0164a5a86602a296dece25bd56b72cc470e07d5f2c76b87d4ea3cf2"
  },
  "kernelspec": {
   "display_name": "Python 3.9.12 64-bit",
   "language": "python",
   "name": "python3"
  },
  "language_info": {
   "codemirror_mode": {
    "name": "ipython",
    "version": 3
   },
   "file_extension": ".py",
   "mimetype": "text/x-python",
   "name": "python",
   "nbconvert_exporter": "python",
   "pygments_lexer": "ipython3",
   "version": "3.9.12"
  },
  "orig_nbformat": 4
 },
 "nbformat": 4,
 "nbformat_minor": 2
}
